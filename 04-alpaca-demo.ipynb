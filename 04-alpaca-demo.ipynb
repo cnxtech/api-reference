{
 "cells": [
  {
   "cell_type": "markdown",
   "metadata": {},
   "source": [
    "# Alpaca Demo"
   ]
  },
  {
   "cell_type": "code",
   "execution_count": 1,
   "metadata": {},
   "outputs": [],
   "source": [
    "# Initial imports\n",
    "import os\n",
    "import pandas as pd\n",
    "from dotenv import load_dotenv\n",
    "import alpaca_trade_api as tradeapi\n",
    "\n",
    "%matplotlib inline"
   ]
  },
  {
   "cell_type": "code",
   "execution_count": 2,
   "metadata": {},
   "outputs": [
    {
     "data": {
      "text/plain": [
       "True"
      ]
     },
     "execution_count": 2,
     "metadata": {},
     "output_type": "execute_result"
    }
   ],
   "source": [
    "# Load .env environment variables\n",
    "load_dotenv()"
   ]
  },
  {
   "cell_type": "code",
   "execution_count": 3,
   "metadata": {},
   "outputs": [],
   "source": [
    "# Set Alpaca API key and secret\n",
    "alpaca_api_key = os.getenv(\"ALPACA_API_KEY\")\n",
    "alpaca_secret_key = os.getenv(\"ALPACA_SECRET_KEY\")\n",
    "\n",
    "# Set the paper URL\n",
    "base_url = 'https://paper-api.alpaca.markets'"
   ]
  },
  {
   "cell_type": "code",
   "execution_count": 4,
   "metadata": {},
   "outputs": [
    {
     "name": "stdout",
     "output_type": "stream",
     "text": [
      "Alpaca Key type: <class 'str'>\n",
      "Alpaca Secret Key type: <class 'str'>\n"
     ]
    }
   ],
   "source": [
    "# Verify that Alpaca key and secret were correctly loaded\n",
    "print(f\"Alpaca Key type: {type(alpaca_api_key)}\")\n",
    "print(f\"Alpaca Secret Key type: {type(alpaca_secret_key)}\")"
   ]
  },
  {
   "cell_type": "code",
   "execution_count": 8,
   "metadata": {},
   "outputs": [
    {
     "data": {
      "text/plain": [
       "<alpaca_trade_api.rest.REST at 0x1b0cb8690c8>"
      ]
     },
     "execution_count": 8,
     "metadata": {},
     "output_type": "execute_result"
    }
   ],
   "source": [
    "# Create the Alpaca API object\n",
    "alpaca = tradeapi.REST(\n",
    "    alpaca_api_key,\n",
    "    alpaca_secret_key,\n",
    "    base_url,\n",
    "    api_version=\"v2\")\n",
    "alpaca"
   ]
  },
  {
   "cell_type": "code",
   "execution_count": 9,
   "metadata": {},
   "outputs": [
    {
     "data": {
      "text/plain": [
       "'2020-07-14T00:00:00-04:00'"
      ]
     },
     "execution_count": 9,
     "metadata": {},
     "output_type": "execute_result"
    }
   ],
   "source": [
    "# Format current date as ISO format\n",
    "today = pd.Timestamp(\"2020-07-14\", tz=\"America/New_York\").isoformat()\n",
    "today"
   ]
  },
  {
   "cell_type": "code",
   "execution_count": 10,
   "metadata": {},
   "outputs": [],
   "source": [
    "# Set the tickers\n",
    "tickers = [\"FB\", \"TWTR\"]"
   ]
  },
  {
   "cell_type": "code",
   "execution_count": 11,
   "metadata": {},
   "outputs": [],
   "source": [
    "# Set timeframe to one day ('1D') for the Alpaca API\n",
    "timeframe = \"1D\""
   ]
  },
  {
   "cell_type": "code",
   "execution_count": 14,
   "metadata": {},
   "outputs": [
    {
     "data": {
      "text/html": [
       "<div>\n",
       "<style scoped>\n",
       "    .dataframe tbody tr th:only-of-type {\n",
       "        vertical-align: middle;\n",
       "    }\n",
       "\n",
       "    .dataframe tbody tr th {\n",
       "        vertical-align: top;\n",
       "    }\n",
       "\n",
       "    .dataframe thead tr th {\n",
       "        text-align: left;\n",
       "    }\n",
       "\n",
       "    .dataframe thead tr:last-of-type th {\n",
       "        text-align: right;\n",
       "    }\n",
       "</style>\n",
       "<table border=\"1\" class=\"dataframe\">\n",
       "  <thead>\n",
       "    <tr>\n",
       "      <th></th>\n",
       "      <th colspan=\"5\" halign=\"left\">FB</th>\n",
       "      <th colspan=\"5\" halign=\"left\">TWTR</th>\n",
       "    </tr>\n",
       "    <tr>\n",
       "      <th></th>\n",
       "      <th>open</th>\n",
       "      <th>high</th>\n",
       "      <th>low</th>\n",
       "      <th>close</th>\n",
       "      <th>volume</th>\n",
       "      <th>open</th>\n",
       "      <th>high</th>\n",
       "      <th>low</th>\n",
       "      <th>close</th>\n",
       "      <th>volume</th>\n",
       "    </tr>\n",
       "    <tr>\n",
       "      <th>time</th>\n",
       "      <th></th>\n",
       "      <th></th>\n",
       "      <th></th>\n",
       "      <th></th>\n",
       "      <th></th>\n",
       "      <th></th>\n",
       "      <th></th>\n",
       "      <th></th>\n",
       "      <th></th>\n",
       "      <th></th>\n",
       "    </tr>\n",
       "  </thead>\n",
       "  <tbody>\n",
       "    <tr>\n",
       "      <th>2020-07-14 00:00:00-04:00</th>\n",
       "      <td>236.76</td>\n",
       "      <td>240.33</td>\n",
       "      <td>232.03</td>\n",
       "      <td>239.73</td>\n",
       "      <td>21476590</td>\n",
       "      <td>33.53</td>\n",
       "      <td>34.66</td>\n",
       "      <td>33.44</td>\n",
       "      <td>34.4</td>\n",
       "      <td>14732534</td>\n",
       "    </tr>\n",
       "  </tbody>\n",
       "</table>\n",
       "</div>"
      ],
      "text/plain": [
       "                               FB                                     TWTR  \\\n",
       "                             open    high     low   close    volume   open   \n",
       "time                                                                         \n",
       "2020-07-14 00:00:00-04:00  236.76  240.33  232.03  239.73  21476590  33.53   \n",
       "\n",
       "                                                         \n",
       "                            high    low close    volume  \n",
       "time                                                     \n",
       "2020-07-14 00:00:00-04:00  34.66  33.44  34.4  14732534  "
      ]
     },
     "execution_count": 14,
     "metadata": {},
     "output_type": "execute_result"
    }
   ],
   "source": [
    "# Get current closing prices for FB and TWTR\n",
    "df_portfolio = alpaca.get_barset(\n",
    "    tickers,\n",
    "    timeframe,\n",
    "    start = today,\n",
    "    end = today\n",
    ").df\n",
    "\n",
    "# Display sample data\n",
    "df_portfolio"
   ]
  },
  {
   "cell_type": "code",
   "execution_count": 16,
   "metadata": {},
   "outputs": [],
   "source": [
    "# Format start and end dates as ISO format for one year period\n",
    "start = pd.Timestamp(\"2019-07-14\", tz=\"America/New_York\").isoformat()\n",
    "end = pd.Timestamp(\"2020-07-14\", tz=\"America/New_York\").isoformat()"
   ]
  },
  {
   "cell_type": "code",
   "execution_count": 17,
   "metadata": {},
   "outputs": [
    {
     "data": {
      "text/html": [
       "<div>\n",
       "<style scoped>\n",
       "    .dataframe tbody tr th:only-of-type {\n",
       "        vertical-align: middle;\n",
       "    }\n",
       "\n",
       "    .dataframe tbody tr th {\n",
       "        vertical-align: top;\n",
       "    }\n",
       "\n",
       "    .dataframe thead tr th {\n",
       "        text-align: left;\n",
       "    }\n",
       "\n",
       "    .dataframe thead tr:last-of-type th {\n",
       "        text-align: right;\n",
       "    }\n",
       "</style>\n",
       "<table border=\"1\" class=\"dataframe\">\n",
       "  <thead>\n",
       "    <tr>\n",
       "      <th></th>\n",
       "      <th colspan=\"5\" halign=\"left\">FB</th>\n",
       "      <th colspan=\"5\" halign=\"left\">TWTR</th>\n",
       "    </tr>\n",
       "    <tr>\n",
       "      <th></th>\n",
       "      <th>open</th>\n",
       "      <th>high</th>\n",
       "      <th>low</th>\n",
       "      <th>close</th>\n",
       "      <th>volume</th>\n",
       "      <th>open</th>\n",
       "      <th>high</th>\n",
       "      <th>low</th>\n",
       "      <th>close</th>\n",
       "      <th>volume</th>\n",
       "    </tr>\n",
       "    <tr>\n",
       "      <th>time</th>\n",
       "      <th></th>\n",
       "      <th></th>\n",
       "      <th></th>\n",
       "      <th></th>\n",
       "      <th></th>\n",
       "      <th></th>\n",
       "      <th></th>\n",
       "      <th></th>\n",
       "      <th></th>\n",
       "      <th></th>\n",
       "    </tr>\n",
       "  </thead>\n",
       "  <tbody>\n",
       "    <tr>\n",
       "      <th>2020-02-21 00:00:00-05:00</th>\n",
       "      <td>213.48</td>\n",
       "      <td>214.237</td>\n",
       "      <td>208.8305</td>\n",
       "      <td>210.16</td>\n",
       "      <td>12671114</td>\n",
       "      <td>38.67</td>\n",
       "      <td>38.75</td>\n",
       "      <td>38.040</td>\n",
       "      <td>38.3085</td>\n",
       "      <td>13994657</td>\n",
       "    </tr>\n",
       "    <tr>\n",
       "      <th>2020-02-24 00:00:00-05:00</th>\n",
       "      <td>201.80</td>\n",
       "      <td>203.650</td>\n",
       "      <td>198.1700</td>\n",
       "      <td>200.73</td>\n",
       "      <td>20406271</td>\n",
       "      <td>36.50</td>\n",
       "      <td>36.59</td>\n",
       "      <td>35.310</td>\n",
       "      <td>35.8900</td>\n",
       "      <td>22443589</td>\n",
       "    </tr>\n",
       "    <tr>\n",
       "      <th>2020-02-25 00:00:00-05:00</th>\n",
       "      <td>202.47</td>\n",
       "      <td>203.500</td>\n",
       "      <td>195.9537</td>\n",
       "      <td>196.64</td>\n",
       "      <td>18833578</td>\n",
       "      <td>36.18</td>\n",
       "      <td>36.45</td>\n",
       "      <td>34.885</td>\n",
       "      <td>35.2000</td>\n",
       "      <td>17663792</td>\n",
       "    </tr>\n",
       "    <tr>\n",
       "      <th>2020-02-26 00:00:00-05:00</th>\n",
       "      <td>197.19</td>\n",
       "      <td>201.210</td>\n",
       "      <td>195.4900</td>\n",
       "      <td>197.18</td>\n",
       "      <td>15234727</td>\n",
       "      <td>35.28</td>\n",
       "      <td>35.82</td>\n",
       "      <td>34.435</td>\n",
       "      <td>34.6400</td>\n",
       "      <td>14642081</td>\n",
       "    </tr>\n",
       "    <tr>\n",
       "      <th>2020-02-27 00:00:00-05:00</th>\n",
       "      <td>191.99</td>\n",
       "      <td>195.880</td>\n",
       "      <td>189.5000</td>\n",
       "      <td>189.69</td>\n",
       "      <td>19313106</td>\n",
       "      <td>33.73</td>\n",
       "      <td>34.20</td>\n",
       "      <td>32.470</td>\n",
       "      <td>33.0100</td>\n",
       "      <td>23928384</td>\n",
       "    </tr>\n",
       "    <tr>\n",
       "      <th>2020-02-28 00:00:00-05:00</th>\n",
       "      <td>182.61</td>\n",
       "      <td>192.740</td>\n",
       "      <td>181.8200</td>\n",
       "      <td>192.74</td>\n",
       "      <td>28054197</td>\n",
       "      <td>31.86</td>\n",
       "      <td>33.37</td>\n",
       "      <td>31.510</td>\n",
       "      <td>33.2000</td>\n",
       "      <td>29066204</td>\n",
       "    </tr>\n",
       "    <tr>\n",
       "      <th>2020-03-02 00:00:00-05:00</th>\n",
       "      <td>194.10</td>\n",
       "      <td>196.570</td>\n",
       "      <td>188.8500</td>\n",
       "      <td>196.54</td>\n",
       "      <td>21795546</td>\n",
       "      <td>36.00</td>\n",
       "      <td>36.86</td>\n",
       "      <td>35.140</td>\n",
       "      <td>35.8200</td>\n",
       "      <td>35162445</td>\n",
       "    </tr>\n",
       "    <tr>\n",
       "      <th>2020-03-03 00:00:00-05:00</th>\n",
       "      <td>196.22</td>\n",
       "      <td>197.240</td>\n",
       "      <td>183.9700</td>\n",
       "      <td>185.89</td>\n",
       "      <td>24693345</td>\n",
       "      <td>36.01</td>\n",
       "      <td>36.48</td>\n",
       "      <td>34.410</td>\n",
       "      <td>34.9300</td>\n",
       "      <td>21168858</td>\n",
       "    </tr>\n",
       "    <tr>\n",
       "      <th>2020-03-04 00:00:00-05:00</th>\n",
       "      <td>189.05</td>\n",
       "      <td>191.830</td>\n",
       "      <td>186.3900</td>\n",
       "      <td>191.79</td>\n",
       "      <td>20486825</td>\n",
       "      <td>35.76</td>\n",
       "      <td>36.00</td>\n",
       "      <td>34.770</td>\n",
       "      <td>35.9900</td>\n",
       "      <td>11054107</td>\n",
       "    </tr>\n",
       "    <tr>\n",
       "      <th>2020-03-05 00:00:00-05:00</th>\n",
       "      <td>186.78</td>\n",
       "      <td>188.990</td>\n",
       "      <td>183.8901</td>\n",
       "      <td>185.02</td>\n",
       "      <td>21975861</td>\n",
       "      <td>35.03</td>\n",
       "      <td>35.73</td>\n",
       "      <td>34.520</td>\n",
       "      <td>34.9700</td>\n",
       "      <td>12075995</td>\n",
       "    </tr>\n",
       "  </tbody>\n",
       "</table>\n",
       "</div>"
      ],
      "text/plain": [
       "                               FB                                        TWTR  \\\n",
       "                             open     high       low   close    volume   open   \n",
       "time                                                                            \n",
       "2020-02-21 00:00:00-05:00  213.48  214.237  208.8305  210.16  12671114  38.67   \n",
       "2020-02-24 00:00:00-05:00  201.80  203.650  198.1700  200.73  20406271  36.50   \n",
       "2020-02-25 00:00:00-05:00  202.47  203.500  195.9537  196.64  18833578  36.18   \n",
       "2020-02-26 00:00:00-05:00  197.19  201.210  195.4900  197.18  15234727  35.28   \n",
       "2020-02-27 00:00:00-05:00  191.99  195.880  189.5000  189.69  19313106  33.73   \n",
       "2020-02-28 00:00:00-05:00  182.61  192.740  181.8200  192.74  28054197  31.86   \n",
       "2020-03-02 00:00:00-05:00  194.10  196.570  188.8500  196.54  21795546  36.00   \n",
       "2020-03-03 00:00:00-05:00  196.22  197.240  183.9700  185.89  24693345  36.01   \n",
       "2020-03-04 00:00:00-05:00  189.05  191.830  186.3900  191.79  20486825  35.76   \n",
       "2020-03-05 00:00:00-05:00  186.78  188.990  183.8901  185.02  21975861  35.03   \n",
       "\n",
       "                                                             \n",
       "                            high     low    close    volume  \n",
       "time                                                         \n",
       "2020-02-21 00:00:00-05:00  38.75  38.040  38.3085  13994657  \n",
       "2020-02-24 00:00:00-05:00  36.59  35.310  35.8900  22443589  \n",
       "2020-02-25 00:00:00-05:00  36.45  34.885  35.2000  17663792  \n",
       "2020-02-26 00:00:00-05:00  35.82  34.435  34.6400  14642081  \n",
       "2020-02-27 00:00:00-05:00  34.20  32.470  33.0100  23928384  \n",
       "2020-02-28 00:00:00-05:00  33.37  31.510  33.2000  29066204  \n",
       "2020-03-02 00:00:00-05:00  36.86  35.140  35.8200  35162445  \n",
       "2020-03-03 00:00:00-05:00  36.48  34.410  34.9300  21168858  \n",
       "2020-03-04 00:00:00-05:00  36.00  34.770  35.9900  11054107  \n",
       "2020-03-05 00:00:00-05:00  35.73  34.520  34.9700  12075995  "
      ]
     },
     "execution_count": 17,
     "metadata": {},
     "output_type": "execute_result"
    }
   ],
   "source": [
    "# Get closing prices for FB and TWTR from the last year\n",
    "df_portfolio_year = alpaca.get_barset(\n",
    "    tickers,\n",
    "    timeframe,\n",
    "    start = start,\n",
    "    end = end\n",
    ").df\n",
    "\n",
    "# Display sample data\n",
    "df_portfolio_year.head(10)"
   ]
  },
  {
   "cell_type": "code",
   "execution_count": 18,
   "metadata": {},
   "outputs": [
    {
     "data": {
      "text/html": [
       "<div>\n",
       "<style scoped>\n",
       "    .dataframe tbody tr th:only-of-type {\n",
       "        vertical-align: middle;\n",
       "    }\n",
       "\n",
       "    .dataframe tbody tr th {\n",
       "        vertical-align: top;\n",
       "    }\n",
       "\n",
       "    .dataframe thead th {\n",
       "        text-align: right;\n",
       "    }\n",
       "</style>\n",
       "<table border=\"1\" class=\"dataframe\">\n",
       "  <thead>\n",
       "    <tr style=\"text-align: right;\">\n",
       "      <th></th>\n",
       "      <th>FB</th>\n",
       "      <th>TWTR</th>\n",
       "    </tr>\n",
       "  </thead>\n",
       "  <tbody>\n",
       "    <tr>\n",
       "      <th>2020-02-21</th>\n",
       "      <td>210.16</td>\n",
       "      <td>38.3085</td>\n",
       "    </tr>\n",
       "    <tr>\n",
       "      <th>2020-02-24</th>\n",
       "      <td>200.73</td>\n",
       "      <td>35.8900</td>\n",
       "    </tr>\n",
       "    <tr>\n",
       "      <th>2020-02-25</th>\n",
       "      <td>196.64</td>\n",
       "      <td>35.2000</td>\n",
       "    </tr>\n",
       "    <tr>\n",
       "      <th>2020-02-26</th>\n",
       "      <td>197.18</td>\n",
       "      <td>34.6400</td>\n",
       "    </tr>\n",
       "    <tr>\n",
       "      <th>2020-02-27</th>\n",
       "      <td>189.69</td>\n",
       "      <td>33.0100</td>\n",
       "    </tr>\n",
       "    <tr>\n",
       "      <th>2020-02-28</th>\n",
       "      <td>192.74</td>\n",
       "      <td>33.2000</td>\n",
       "    </tr>\n",
       "    <tr>\n",
       "      <th>2020-03-02</th>\n",
       "      <td>196.54</td>\n",
       "      <td>35.8200</td>\n",
       "    </tr>\n",
       "    <tr>\n",
       "      <th>2020-03-03</th>\n",
       "      <td>185.89</td>\n",
       "      <td>34.9300</td>\n",
       "    </tr>\n",
       "    <tr>\n",
       "      <th>2020-03-04</th>\n",
       "      <td>191.79</td>\n",
       "      <td>35.9900</td>\n",
       "    </tr>\n",
       "    <tr>\n",
       "      <th>2020-03-05</th>\n",
       "      <td>185.02</td>\n",
       "      <td>34.9700</td>\n",
       "    </tr>\n",
       "  </tbody>\n",
       "</table>\n",
       "</div>"
      ],
      "text/plain": [
       "                FB     TWTR\n",
       "2020-02-21  210.16  38.3085\n",
       "2020-02-24  200.73  35.8900\n",
       "2020-02-25  196.64  35.2000\n",
       "2020-02-26  197.18  34.6400\n",
       "2020-02-27  189.69  33.0100\n",
       "2020-02-28  192.74  33.2000\n",
       "2020-03-02  196.54  35.8200\n",
       "2020-03-03  185.89  34.9300\n",
       "2020-03-04  191.79  35.9900\n",
       "2020-03-05  185.02  34.9700"
      ]
     },
     "execution_count": 18,
     "metadata": {},
     "output_type": "execute_result"
    }
   ],
   "source": [
    "# Create and empty DataFrame for closing prices\n",
    "df_closing_prices = pd.DataFrame()\n",
    "\n",
    "# Fetch the closing prices of FB and TWTR\n",
    "df_closing_prices[\"FB\"] = df_portfolio_year[\"FB\"][\"close\"]\n",
    "df_closing_prices[\"TWTR\"] = df_portfolio_year[\"TWTR\"][\"close\"]\n",
    "\n",
    "# Drop the time component of the date\n",
    "df_closing_prices.index = df_closing_prices.index.date\n",
    "\n",
    "# Display sample data\n",
    "df_closing_prices.head(10)"
   ]
  },
  {
   "cell_type": "code",
   "execution_count": 19,
   "metadata": {},
   "outputs": [
    {
     "data": {
      "text/html": [
       "<div>\n",
       "<style scoped>\n",
       "    .dataframe tbody tr th:only-of-type {\n",
       "        vertical-align: middle;\n",
       "    }\n",
       "\n",
       "    .dataframe tbody tr th {\n",
       "        vertical-align: top;\n",
       "    }\n",
       "\n",
       "    .dataframe thead th {\n",
       "        text-align: right;\n",
       "    }\n",
       "</style>\n",
       "<table border=\"1\" class=\"dataframe\">\n",
       "  <thead>\n",
       "    <tr style=\"text-align: right;\">\n",
       "      <th></th>\n",
       "      <th>FB</th>\n",
       "      <th>TWTR</th>\n",
       "    </tr>\n",
       "  </thead>\n",
       "  <tbody>\n",
       "    <tr>\n",
       "      <th>2020-02-24</th>\n",
       "      <td>-0.044871</td>\n",
       "      <td>-0.063132</td>\n",
       "    </tr>\n",
       "    <tr>\n",
       "      <th>2020-02-25</th>\n",
       "      <td>-0.020376</td>\n",
       "      <td>-0.019225</td>\n",
       "    </tr>\n",
       "    <tr>\n",
       "      <th>2020-02-26</th>\n",
       "      <td>0.002746</td>\n",
       "      <td>-0.015909</td>\n",
       "    </tr>\n",
       "    <tr>\n",
       "      <th>2020-02-27</th>\n",
       "      <td>-0.037986</td>\n",
       "      <td>-0.047055</td>\n",
       "    </tr>\n",
       "    <tr>\n",
       "      <th>2020-02-28</th>\n",
       "      <td>0.016079</td>\n",
       "      <td>0.005756</td>\n",
       "    </tr>\n",
       "  </tbody>\n",
       "</table>\n",
       "</div>"
      ],
      "text/plain": [
       "                  FB      TWTR\n",
       "2020-02-24 -0.044871 -0.063132\n",
       "2020-02-25 -0.020376 -0.019225\n",
       "2020-02-26  0.002746 -0.015909\n",
       "2020-02-27 -0.037986 -0.047055\n",
       "2020-02-28  0.016079  0.005756"
      ]
     },
     "execution_count": 19,
     "metadata": {},
     "output_type": "execute_result"
    }
   ],
   "source": [
    "# Compute daily returns\n",
    "df_daily_returns = df_closing_prices.pct_change().dropna()\n",
    "\n",
    "# Display sample data\n",
    "df_daily_returns.head()"
   ]
  },
  {
   "cell_type": "code",
   "execution_count": 20,
   "metadata": {},
   "outputs": [
    {
     "data": {
      "text/plain": [
       "<AxesSubplot:title={'center':'Daily Returns of FB and TWTR over the Last Year'}>"
      ]
     },
     "execution_count": 20,
     "metadata": {},
     "output_type": "execute_result"
    },
    {
     "data": {
      "image/png": "[encoded data removed]",
      "text/plain": [
       "<Figure size 432x288 with 1 Axes>"
      ]
     },
     "metadata": {
      "needs_background": "light"
     },
     "output_type": "display_data"
    }
   ],
   "source": [
    "# Plot daily returns\n",
    "df_daily_returns.plot(title=\"Daily Returns of FB and TWTR over the Last Year\")"
   ]
  },
  {
   "cell_type": "code",
   "execution_count": null,
   "metadata": {},
   "outputs": [],
   "source": []
  },
  {
   "cell_type": "code",
   "execution_count": null,
   "metadata": {},
   "outputs": [],
   "source": []
  }
 ],
 "metadata": {
  "kernelspec": {
   "display_name": "Python 3",
   "language": "python",
   "name": "python3"
  },
  "language_info": {
   "codemirror_mode": {
    "name": "ipython",
    "version": 3
   },
   "file_extension": ".py",
   "mimetype": "text/x-python",
   "name": "python",
   "nbconvert_exporter": "python",
   "pygments_lexer": "ipython3",
   "version": "3.7.9"
  }
 },
 "nbformat": 4,
 "nbformat_minor": 4
}
